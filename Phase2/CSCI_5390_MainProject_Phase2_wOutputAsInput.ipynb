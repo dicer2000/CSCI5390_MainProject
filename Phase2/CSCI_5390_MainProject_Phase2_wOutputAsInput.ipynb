{
  "nbformat": 4,
  "nbformat_minor": 0,
  "metadata": {
    "colab": {
      "name": "CSCI 5390_MainProject_Phase2_wOutputAsInput.ipynb",
      "provenance": [],
      "collapsed_sections": []
    },
    "kernelspec": {
      "name": "python3",
      "display_name": "Python 3"
    },
    "language_info": {
      "name": "python"
    },
    "accelerator": "GPU"
  },
  "cells": [
    {
      "cell_type": "markdown",
      "source": [
        "# **Brett Huffman**\n",
        "\n",
        "## **CSCI 5390**\n",
        "\n",
        "## Main Project - Phase 2 With Output As Input\n",
        "\n",
        "---\n",
        "`Note: this Colab should only be used when testing Output As Input!!! Do not use it for anything else!`\n",
        "\n",
        "---\n",
        "\n",
        "\n",
        "\n",
        "Credit: The images for this project are from personal library and from Alamy.com covered under their Personal Use license.  Images can only be used for non-commercial purposes. "
      ],
      "metadata": {
        "id": "miOh8LZmLEqU"
      }
    },
    {
      "cell_type": "code",
      "source": [
        "!git clone https://github.com/dicer2000/CSCI_5390"
      ],
      "metadata": {
        "colab": {
          "base_uri": "https://localhost:8080/"
        },
        "id": "b0jYaOsaMzIM",
        "outputId": "509a236b-0a76-4015-f5f9-e59954aa64de"
      },
      "execution_count": null,
      "outputs": [
        {
          "output_type": "stream",
          "name": "stdout",
          "text": [
            "fatal: destination path 'CSCI_5390' already exists and is not an empty directory.\n"
          ]
        }
      ]
    },
    {
      "cell_type": "code",
      "execution_count": null,
      "metadata": {
        "colab": {
          "base_uri": "https://localhost:8080/"
        },
        "id": "vX7R2ZxpK3f6",
        "outputId": "f68aae04-d14b-47cd-b0dd-a50f7dd4e386"
      },
      "outputs": [
        {
          "output_type": "stream",
          "name": "stdout",
          "text": [
            "total 32\n",
            "drwxr-xr-x 2 root root  4096 Feb 27 04:45 Ash\n",
            "drwxr-xr-x 2 root root  4096 Feb 27 04:45 Cedar\n",
            "drwxr-xr-x 2 root root 12288 Feb 27 04:45 Honeysuckle\n",
            "drwxr-xr-x 2 root root  4096 Feb 27 04:45 Maple\n",
            "drwxr-xr-x 2 root root  4096 Feb 27 04:45 Oak\n",
            "-rw-r--r-- 1 root root   593 Feb 27 04:45 removeBlack.py\n"
          ]
        }
      ],
      "source": [
        "# Checkout just the images folder from Github\n",
        "! ls -l CSCI_5390/MainProject/Images"
      ]
    },
    {
      "cell_type": "code",
      "source": [
        "# Check out the index file\n",
        "import pandas as pd\n",
        "df = pd.read_csv('CSCI_5390/MainProject/TreeImageMaster.csv')\n",
        "df.head()"
      ],
      "metadata": {
        "colab": {
          "base_uri": "https://localhost:8080/",
          "height": 206
        },
        "id": "U_8S3K0DWonZ",
        "outputId": "864205ab-5c47-4be4-d318-21b8ab311b81"
      },
      "execution_count": null,
      "outputs": [
        {
          "output_type": "execute_result",
          "data": {
            "text/html": [
              "\n",
              "  <div id=\"df-c5c4eac2-4970-47bf-9f58-dac85d678ffb\">\n",
              "    <div class=\"colab-df-container\">\n",
              "      <div>\n",
              "<style scoped>\n",
              "    .dataframe tbody tr th:only-of-type {\n",
              "        vertical-align: middle;\n",
              "    }\n",
              "\n",
              "    .dataframe tbody tr th {\n",
              "        vertical-align: top;\n",
              "    }\n",
              "\n",
              "    .dataframe thead th {\n",
              "        text-align: right;\n",
              "    }\n",
              "</style>\n",
              "<table border=\"1\" class=\"dataframe\">\n",
              "  <thead>\n",
              "    <tr style=\"text-align: right;\">\n",
              "      <th></th>\n",
              "      <th>id</th>\n",
              "      <th>image</th>\n",
              "      <th>treetype</th>\n",
              "    </tr>\n",
              "  </thead>\n",
              "  <tbody>\n",
              "    <tr>\n",
              "      <th>0</th>\n",
              "      <td>1</td>\n",
              "      <td>Images/Oak/oak125.jpeg</td>\n",
              "      <td>1</td>\n",
              "    </tr>\n",
              "    <tr>\n",
              "      <th>1</th>\n",
              "      <td>2</td>\n",
              "      <td>Images/Oak/oak133.jpeg</td>\n",
              "      <td>1</td>\n",
              "    </tr>\n",
              "    <tr>\n",
              "      <th>2</th>\n",
              "      <td>3</td>\n",
              "      <td>Images/Oak/oak42.jpg</td>\n",
              "      <td>1</td>\n",
              "    </tr>\n",
              "    <tr>\n",
              "      <th>3</th>\n",
              "      <td>4</td>\n",
              "      <td>Images/Oak/oak56.jpg</td>\n",
              "      <td>1</td>\n",
              "    </tr>\n",
              "    <tr>\n",
              "      <th>4</th>\n",
              "      <td>5</td>\n",
              "      <td>Images/Oak/oak81.jpg</td>\n",
              "      <td>1</td>\n",
              "    </tr>\n",
              "  </tbody>\n",
              "</table>\n",
              "</div>\n",
              "      <button class=\"colab-df-convert\" onclick=\"convertToInteractive('df-c5c4eac2-4970-47bf-9f58-dac85d678ffb')\"\n",
              "              title=\"Convert this dataframe to an interactive table.\"\n",
              "              style=\"display:none;\">\n",
              "        \n",
              "  <svg xmlns=\"http://www.w3.org/2000/svg\" height=\"24px\"viewBox=\"0 0 24 24\"\n",
              "       width=\"24px\">\n",
              "    <path d=\"M0 0h24v24H0V0z\" fill=\"none\"/>\n",
              "    <path d=\"M18.56 5.44l.94 2.06.94-2.06 2.06-.94-2.06-.94-.94-2.06-.94 2.06-2.06.94zm-11 1L8.5 8.5l.94-2.06 2.06-.94-2.06-.94L8.5 2.5l-.94 2.06-2.06.94zm10 10l.94 2.06.94-2.06 2.06-.94-2.06-.94-.94-2.06-.94 2.06-2.06.94z\"/><path d=\"M17.41 7.96l-1.37-1.37c-.4-.4-.92-.59-1.43-.59-.52 0-1.04.2-1.43.59L10.3 9.45l-7.72 7.72c-.78.78-.78 2.05 0 2.83L4 21.41c.39.39.9.59 1.41.59.51 0 1.02-.2 1.41-.59l7.78-7.78 2.81-2.81c.8-.78.8-2.07 0-2.86zM5.41 20L4 18.59l7.72-7.72 1.47 1.35L5.41 20z\"/>\n",
              "  </svg>\n",
              "      </button>\n",
              "      \n",
              "  <style>\n",
              "    .colab-df-container {\n",
              "      display:flex;\n",
              "      flex-wrap:wrap;\n",
              "      gap: 12px;\n",
              "    }\n",
              "\n",
              "    .colab-df-convert {\n",
              "      background-color: #E8F0FE;\n",
              "      border: none;\n",
              "      border-radius: 50%;\n",
              "      cursor: pointer;\n",
              "      display: none;\n",
              "      fill: #1967D2;\n",
              "      height: 32px;\n",
              "      padding: 0 0 0 0;\n",
              "      width: 32px;\n",
              "    }\n",
              "\n",
              "    .colab-df-convert:hover {\n",
              "      background-color: #E2EBFA;\n",
              "      box-shadow: 0px 1px 2px rgba(60, 64, 67, 0.3), 0px 1px 3px 1px rgba(60, 64, 67, 0.15);\n",
              "      fill: #174EA6;\n",
              "    }\n",
              "\n",
              "    [theme=dark] .colab-df-convert {\n",
              "      background-color: #3B4455;\n",
              "      fill: #D2E3FC;\n",
              "    }\n",
              "\n",
              "    [theme=dark] .colab-df-convert:hover {\n",
              "      background-color: #434B5C;\n",
              "      box-shadow: 0px 1px 3px 1px rgba(0, 0, 0, 0.15);\n",
              "      filter: drop-shadow(0px 1px 2px rgba(0, 0, 0, 0.3));\n",
              "      fill: #FFFFFF;\n",
              "    }\n",
              "  </style>\n",
              "\n",
              "      <script>\n",
              "        const buttonEl =\n",
              "          document.querySelector('#df-c5c4eac2-4970-47bf-9f58-dac85d678ffb button.colab-df-convert');\n",
              "        buttonEl.style.display =\n",
              "          google.colab.kernel.accessAllowed ? 'block' : 'none';\n",
              "\n",
              "        async function convertToInteractive(key) {\n",
              "          const element = document.querySelector('#df-c5c4eac2-4970-47bf-9f58-dac85d678ffb');\n",
              "          const dataTable =\n",
              "            await google.colab.kernel.invokeFunction('convertToInteractive',\n",
              "                                                     [key], {});\n",
              "          if (!dataTable) return;\n",
              "\n",
              "          const docLinkHtml = 'Like what you see? Visit the ' +\n",
              "            '<a target=\"_blank\" href=https://colab.research.google.com/notebooks/data_table.ipynb>data table notebook</a>'\n",
              "            + ' to learn more about interactive tables.';\n",
              "          element.innerHTML = '';\n",
              "          dataTable['output_type'] = 'display_data';\n",
              "          await google.colab.output.renderOutput(dataTable, element);\n",
              "          const docLink = document.createElement('div');\n",
              "          docLink.innerHTML = docLinkHtml;\n",
              "          element.appendChild(docLink);\n",
              "        }\n",
              "      </script>\n",
              "    </div>\n",
              "  </div>\n",
              "  "
            ],
            "text/plain": [
              "   id                   image  treetype\n",
              "0   1  Images/Oak/oak125.jpeg         1\n",
              "1   2  Images/Oak/oak133.jpeg         1\n",
              "2   3    Images/Oak/oak42.jpg         1\n",
              "3   4    Images/Oak/oak56.jpg         1\n",
              "4   5    Images/Oak/oak81.jpg         1"
            ]
          },
          "metadata": {},
          "execution_count": 111
        }
      ]
    },
    {
      "cell_type": "code",
      "source": [
        "# Import important libraries\n",
        "import tensorflow as tf\n",
        "import numpy as np\n",
        "import math\n",
        "import random\n",
        "from tensorflow.keras.models import Sequential\n",
        "from tensorflow.keras.layers import Dense, Conv2D, Flatten, MaxPool2D\n",
        "from keras import layers, initializers\n",
        "import matplotlib.pyplot as plt"
      ],
      "metadata": {
        "id": "h3k63VMac0Y1"
      },
      "execution_count": null,
      "outputs": []
    },
    {
      "cell_type": "markdown",
      "source": [
        "## This next Section was not used in Phase II as we didn't need to collect seperate Validation data"
      ],
      "metadata": {
        "id": "S0EixRd_FGYx"
      }
    },
    {
      "cell_type": "code",
      "source": [
        "# Generate the Validation Folders\n",
        "\n",
        "!mkdir CSCI_5390/MainProject/Validation\n",
        "!mkdir CSCI_5390/MainProject/Validation/Images\n",
        "!mkdir CSCI_5390/MainProject/Validation/Images/Ash\n",
        "!mkdir CSCI_5390/MainProject/Validation/Images/Cedar\n",
        "!mkdir CSCI_5390/MainProject/Validation/Images/Honeysuckle\n",
        "!mkdir CSCI_5390/MainProject/Validation/Images/Maple\n",
        "!mkdir CSCI_5390/MainProject/Validation/Images/Oak"
      ],
      "metadata": {
        "id": "7wUp7Tlld6Kj"
      },
      "execution_count": null,
      "outputs": []
    },
    {
      "cell_type": "code",
      "source": [
        "\n",
        "# Randomly move images from the main folder (Training) to Validation\n",
        "from sklearn.utils import shuffle\n",
        "df = shuffle(df)\n",
        "\n",
        "# Designate 30% for Validation data\n",
        "npdata = np.asarray(df)\n",
        "index_30percent = int(0.3 * len(npdata[:, 0]))\n",
        "print(\"Training split: \", index_30percent)\n",
        "\n",
        "# Split the dataset and carve off last column.  This column\n",
        "# is our result set\n",
        "XVALID = npdata[:index_30percent, :-1]\n",
        "YVALID = npdata[:index_30percent, -1]\n",
        "XTRAIN = npdata[index_30percent:, :-1]\n",
        "YTRAIN = npdata[index_30percent:, -1]\n"
      ],
      "metadata": {
        "colab": {
          "base_uri": "https://localhost:8080/"
        },
        "id": "vZkmnty9hkiF",
        "outputId": "73c1141f-23e4-4b7d-9455-7fd77f00210b"
      },
      "execution_count": null,
      "outputs": [
        {
          "output_type": "stream",
          "name": "stdout",
          "text": [
            "Training split:  239\n"
          ]
        }
      ]
    },
    {
      "cell_type": "code",
      "source": [
        "# Move all the designated files over to the Validation folders\n",
        "\n",
        "for file in XVALID[:,1]:\n",
        "  origFile = \"CSCI_5390/MainProject/\" + str(file)\n",
        "  newFile  = \"CSCI_5390/MainProject/Validation/\" + str(file)\n",
        "  print('-----')\n",
        "  print(file)\n",
        "  print(origFile)\n",
        "\n",
        "  !mv $origFile $newFile\n"
      ],
      "metadata": {
        "id": "BQrx-KlPnjnw"
      },
      "execution_count": null,
      "outputs": []
    },
    {
      "cell_type": "markdown",
      "source": [
        "## Back to Phase II items..."
      ],
      "metadata": {
        "id": "3VQCgtlsFipy"
      }
    },
    {
      "cell_type": "code",
      "source": [
        "# Phase II Only\n",
        "# Randomly shuffle data\n",
        "from sklearn.utils import shuffle\n",
        "df = shuffle(df)\n",
        "\n",
        "# Designate 30% for Validation data\n",
        "npdata = np.asarray(df)\n",
        "\n",
        "XTRAIN = npdata[:, :-1]\n",
        "YTRAIN = npdata[:, -1]"
      ],
      "metadata": {
        "id": "_vy0V3HsFmhm"
      },
      "execution_count": null,
      "outputs": []
    },
    {
      "cell_type": "code",
      "source": [
        "print(XTRAIN.shape)\n",
        "print(YTRAIN.shape)"
      ],
      "metadata": {
        "colab": {
          "base_uri": "https://localhost:8080/"
        },
        "id": "RvVejCttGKb8",
        "outputId": "b2b01df3-c480-4cb9-9cfb-5fa022bada29"
      },
      "execution_count": null,
      "outputs": [
        {
          "output_type": "stream",
          "name": "stdout",
          "text": [
            "(797, 2)\n",
            "(797,)\n"
          ]
        }
      ]
    },
    {
      "cell_type": "code",
      "source": [
        "from tensorflow.keras.preprocessing.image import ImageDataGenerator\n",
        "# Rescale all images by 1./255\n",
        "my_generator = ImageDataGenerator(rescale=1./255)\n",
        "#my_generator.fit(XTRAIN)\n"
      ],
      "metadata": {
        "id": "KwbRi5lGVcT2"
      },
      "execution_count": null,
      "outputs": []
    },
    {
      "cell_type": "code",
      "source": [
        "# Generator for training dataset\n",
        "train_dataset = my_generator.flow_from_directory( './CSCI_5390/MainProject/Images', target_size=(150, 150), batch_size=40, class_mode='categorical')\n"
      ],
      "metadata": {
        "id": "EXTd7Wq1Vc7s",
        "colab": {
          "base_uri": "https://localhost:8080/"
        },
        "outputId": "4569fd2f-2f6b-4940-fdc2-04dcd1dc70b0"
      },
      "execution_count": null,
      "outputs": [
        {
          "output_type": "stream",
          "name": "stdout",
          "text": [
            "Found 798 images belonging to 5 classes.\n"
          ]
        }
      ]
    },
    {
      "cell_type": "code",
      "source": [
        "# Generator for validation dataset\n",
        "validation_dataset = my_generator.flow_from_directory( './CSCI_5390/MainProject/Validation/Images', target_size=(150, 150), batch_size=40, class_mode='categorical')\n"
      ],
      "metadata": {
        "id": "O0XsoXtMGYDI"
      },
      "execution_count": null,
      "outputs": []
    },
    {
      "cell_type": "code",
      "source": [
        "# Add Column to training dataset\n",
        "# Empty placeholders for 797 RGB images and their labels\n",
        "\n",
        "train_ds = tf.keras.preprocessing.image_dataset_from_directory(\n",
        "    './CSCI_5390/MainProject/Images',\n",
        "    labels=\"inferred\",\n",
        "    label_mode=\"int\",\n",
        "    class_names=None,\n",
        "    color_mode=\"rgb\",\n",
        "    batch_size=1,\n",
        "    image_size=(150, 150),\n",
        "    shuffle=True,\n",
        "    seed=None,\n",
        "    validation_split=None,\n",
        "    subset=None,\n",
        "    interpolation=\"bilinear\",\n",
        "    follow_links=False,\n",
        "    crop_to_aspect_ratio=False,\n",
        "\n",
        ")\n",
        "\n",
        "print (train_ds)"
      ],
      "metadata": {
        "colab": {
          "base_uri": "https://localhost:8080/"
        },
        "id": "nMpUSKwJ65mJ",
        "outputId": "7d3db795-a159-4417-c784-19f7f2636e5c"
      },
      "execution_count": null,
      "outputs": [
        {
          "output_type": "stream",
          "name": "stdout",
          "text": [
            "Found 798 files belonging to 5 classes.\n",
            "<BatchDataset element_spec=(TensorSpec(shape=(None, 150, 150, 3), dtype=tf.float32, name=None), TensorSpec(shape=(None,), dtype=tf.int32, name=None))>\n"
          ]
        }
      ]
    },
    {
      "cell_type": "code",
      "source": [
        "plt.figure(figsize=(10, 10))\n",
        "for images, labels in train_ds.take(1):\n",
        "    for i in range(1):\n",
        "        ax = plt.subplot(3, 3, i + 1)\n",
        "        plt.imshow(images[i].numpy().astype(\"uint8\"))\n",
        "        plt.title(int(labels[i]))\n",
        "        plt.axis(\"off\")"
      ],
      "metadata": {
        "colab": {
          "base_uri": "https://localhost:8080/",
          "height": 207
        },
        "id": "X9R8ySxIJvFR",
        "outputId": "14dcfbd4-9669-419a-d3fd-deaba95863bc"
      },
      "execution_count": null,
      "outputs": [
        {
          "output_type": "display_data",
          "data": {
            "image/png": "[encoded data removed]",
            "text/plain": [
              "<Figure size 720x720 with 1 Axes>"
            ]
          },
          "metadata": {
            "needs_background": "light"
          }
        }
      ]
    },
    {
      "cell_type": "code",
      "source": [
        "#XTRAIN = np.zeros((798, 150, 150, 3, 1))#, dtype=float)\n",
        "#YTRAIN = np.zeros((798, 1))\n",
        "XTRAIN = np.zeros((798, 150, 150, 4))#, dtype=float)\n",
        "YTRAIN = np.zeros((798, 1))"
      ],
      "metadata": {
        "id": "5hCgJkZ-SiEG"
      },
      "execution_count": null,
      "outputs": []
    },
    {
      "cell_type": "code",
      "source": [
        "print(XTRAIN.shape, YTRAIN.shape)"
      ],
      "metadata": {
        "colab": {
          "base_uri": "https://localhost:8080/"
        },
        "id": "yNtNYS1dXnvE",
        "outputId": "f6f44c1f-34cd-4b8d-f14e-de2ecead5c6b"
      },
      "execution_count": null,
      "outputs": [
        {
          "output_type": "stream",
          "name": "stdout",
          "text": [
            "(798, 150, 150, 4) (798, 1)\n"
          ]
        }
      ]
    },
    {
      "cell_type": "code",
      "source": [
        "# Pull everything from Generator\n",
        "for i in range(798):\n",
        "  for images, labels in train_ds.take(1):\n",
        "    XTRAIN[i, :, :, :3] = images\n",
        "    XTRAIN[i, :, :, 3 ] = labels[0] #np.reshape(labels, (150,150,1)) #labels.reshape((256, 256, 1))\n",
        "#    print(labels[0])    \n",
        "#print(XTRAIN)"
      ],
      "metadata": {
        "id": "l5PcmTshFN5w"
      },
      "execution_count": null,
      "outputs": []
    },
    {
      "cell_type": "code",
      "source": [
        "print(XTRAIN)\n",
        "#print(\"_____\")\n",
        "#print(YTRAIN)\n"
      ],
      "metadata": {
        "id": "4HiyPUu2Z-O0"
      },
      "execution_count": null,
      "outputs": []
    },
    {
      "cell_type": "code",
      "source": [
        "# Check out the data shapes\n",
        "for data_batch, labels_batch in train_dataset:\n",
        "  print(\"data batch shape:\", data_batch.shape)\n",
        "  print(\"labels batch shape:\", labels_batch.shape)\n",
        "  break\n",
        "\n",
        "print( labels_batch)"
      ],
      "metadata": {
        "id": "MiWavlGhMtEF"
      },
      "execution_count": null,
      "outputs": []
    },
    {
      "cell_type": "code",
      "source": [
        "# Check out the images\n",
        "for _ in range(1):\n",
        "    img, label = train_dataset.next()\n",
        "    print(\"Shape: \", img.shape)\n",
        "    print(\"Label: \", label) \n",
        "    plt.imshow(img[0])\n",
        "    plt.show()\n",
        "    plt.imshow(img[1])\n",
        "    plt.show()\n",
        "    plt.imshow(img[2])\n",
        "    plt.show()\n",
        "    plt.imshow(img[3])\n",
        "    plt.show()\n",
        "  "
      ],
      "metadata": {
        "id": "qD_-6kBEd5wj"
      },
      "execution_count": null,
      "outputs": []
    },
    {
      "cell_type": "code",
      "source": [
        "# Model 2 = Fit in \n",
        "# 64 => 16\n",
        "\n",
        "callbacks = [\n",
        "    tf.keras.callbacks.ModelCheckpoint(\n",
        "        filepath=\"BestModel\",\n",
        "        save_best_only=True,\n",
        "        monitor=\"accuracy\" ) # val_loss\") # When we have validation data\n",
        "]\n",
        "\n",
        "data_augmentation = tf.keras.Sequential(\n",
        "    [\n",
        "        layers.RandomFlip(\"horizontal\"),\n",
        "        layers.RandomRotation(0.1),\n",
        "        layers.RandomZoom(0.2),\n",
        "    ]\n",
        ")\n",
        "\n",
        "inputs = tf.keras.Input(shape=(150, 150, 4))\n",
        "#x = data_augmentation(inputs)\n",
        "#x = layers.Rescaling(1./255)(x)\n",
        "x = inputs\n",
        "#x = layers.Conv2D(filters=64, kernel_size=3, activation=\"relu\")(x)\n",
        "#x = layers.MaxPooling2D(pool_size=4)(x)\n",
        "x = layers.Conv2D(filters=32, kernel_size=3, activation=\"relu\")(x)\n",
        "#x = layers.MaxPooling2D(pool_size=4)(x)\n",
        "#x = layers.Conv2D(filters=16, kernel_size=3, activation=\"relu\")(x)\n",
        "#x = layers.MaxPooling2D(pool_size=2)(x)\n",
        "#x = layers.Conv2D(filters=256, kernel_size=3, activation=\"relu\")(x)\n",
        "#x = layers.MaxPooling2D(pool_size=2)(x)\n",
        "#x = layers.Conv2D(filters=256, kernel_size=3, activation=\"relu\")(x)\n",
        "x = layers.Flatten()(x)\n",
        "#x = layers.Dropout(0.5)(x)\n",
        "#x = layers.Dense(10, activation=\"relu\")(x)\n",
        "outputs = layers.Dense(5, activation=\"softmax\")(x)\n",
        "model = tf.keras.Model(inputs=inputs, outputs=outputs)\n",
        "  \n",
        "model.compile(loss=\"binary_crossentropy\",\n",
        "              optimizer=\"rmsprop\",\n",
        "              metrics=[\"accuracy\"])"
      ],
      "metadata": {
        "id": "PMA3AWtvJ0Sp"
      },
      "execution_count": null,
      "outputs": []
    },
    {
      "cell_type": "code",
      "source": [
        "# One-hot the output\n",
        "OneHot_YTRAIN = tf.one_hot(YTRAIN, depth=5)\n",
        "OneHot_YTRAIN = tf.squeeze(OneHot_YTRAIN, [1])"
      ],
      "metadata": {
        "id": "XoOvExvdSmZG"
      },
      "execution_count": null,
      "outputs": []
    },
    {
      "cell_type": "code",
      "source": [
        "# Let loose the dogs\n",
        "history = model.fit(x=XTRAIN, y=OneHot_YTRAIN, epochs=10) #, callbacks=callbacks)"
      ],
      "metadata": {
        "colab": {
          "base_uri": "https://localhost:8080/"
        },
        "id": "zTHymkZ97_xn",
        "outputId": "ed921ae1-ed5f-43ad-838d-02d0ab0c9028"
      },
      "execution_count": null,
      "outputs": [
        {
          "output_type": "stream",
          "name": "stdout",
          "text": [
            "Epoch 1/10\n",
            "25/25 [==============================] - 1s 16ms/step - loss: 1.3525 - accuracy: 0.9599\n",
            "Epoch 2/10\n",
            "25/25 [==============================] - 0s 16ms/step - loss: 4.5654e-20 - accuracy: 1.0000\n",
            "Epoch 3/10\n",
            "25/25 [==============================] - 0s 16ms/step - loss: 4.5654e-20 - accuracy: 1.0000\n",
            "Epoch 4/10\n",
            "25/25 [==============================] - 0s 16ms/step - loss: 4.5654e-20 - accuracy: 1.0000\n",
            "Epoch 5/10\n",
            "25/25 [==============================] - 0s 16ms/step - loss: 4.5654e-20 - accuracy: 1.0000\n",
            "Epoch 6/10\n",
            "25/25 [==============================] - 0s 16ms/step - loss: 4.5654e-20 - accuracy: 1.0000\n",
            "Epoch 7/10\n",
            "25/25 [==============================] - 0s 16ms/step - loss: 4.5654e-20 - accuracy: 1.0000\n",
            "Epoch 8/10\n",
            "25/25 [==============================] - 0s 16ms/step - loss: 4.5654e-20 - accuracy: 1.0000\n",
            "Epoch 9/10\n",
            "25/25 [==============================] - 0s 16ms/step - loss: 4.5654e-20 - accuracy: 1.0000\n",
            "Epoch 10/10\n",
            "25/25 [==============================] - 0s 16ms/step - loss: 4.5654e-20 - accuracy: 1.0000\n"
          ]
        }
      ]
    },
    {
      "cell_type": "code",
      "source": [
        "model.summary()"
      ],
      "metadata": {
        "colab": {
          "base_uri": "https://localhost:8080/"
        },
        "id": "rywDkSaVVtlc",
        "outputId": "2f47da6c-0e20-4b5f-bce1-578f09b1211c"
      },
      "execution_count": null,
      "outputs": [
        {
          "output_type": "stream",
          "name": "stdout",
          "text": [
            "Model: \"model_5\"\n",
            "_________________________________________________________________\n",
            " Layer (type)                Output Shape              Param #   \n",
            "=================================================================\n",
            " input_7 (InputLayer)        [(None, 150, 150, 4)]     0         \n",
            "                                                                 \n",
            " conv2d_11 (Conv2D)          (None, 148, 148, 32)      1184      \n",
            "                                                                 \n",
            " flatten_5 (Flatten)         (None, 700928)            0         \n",
            "                                                                 \n",
            " dense_9 (Dense)             (None, 5)                 3504645   \n",
            "                                                                 \n",
            "=================================================================\n",
            "Total params: 3,505,829\n",
            "Trainable params: 3,505,829\n",
            "Non-trainable params: 0\n",
            "_________________________________________________________________\n"
          ]
        }
      ]
    },
    {
      "cell_type": "code",
      "source": [
        "print(history.history)"
      ],
      "metadata": {
        "id": "i8en6eTMNZ2i"
      },
      "execution_count": null,
      "outputs": []
    },
    {
      "cell_type": "code",
      "source": [
        "loss_train = history.history['loss']\n",
        "loss_val = history.history['accuracy']\n",
        "epochs = range(1,11)\n",
        "plt.plot(epochs, loss_train, 'g', label='Training loss')\n",
        "plt.plot(epochs, loss_val, 'b', label='Accuracy')\n",
        "plt.title('Training Loss and Accuracy')\n",
        "plt.xlabel('Epochs')\n",
        "plt.ylabel('Loss')\n",
        "plt.legend()\n",
        "plt.show()"
      ],
      "metadata": {
        "colab": {
          "base_uri": "https://localhost:8080/",
          "height": 295
        },
        "id": "6ohQiUCZVJZB",
        "outputId": "1a2bec38-ce47-43c6-a4ac-3e62960c39b0"
      },
      "execution_count": null,
      "outputs": [
        {
          "output_type": "display_data",
          "data": {
            "image/png": "[encoded data removed]",
            "text/plain": [
              "<Figure size 432x288 with 1 Axes>"
            ]
          },
          "metadata": {
            "needs_background": "light"
          }
        }
      ]
    }
  ]
}